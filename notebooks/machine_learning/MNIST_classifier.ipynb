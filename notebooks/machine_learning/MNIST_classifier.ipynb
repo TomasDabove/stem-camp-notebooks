{
 "cells": [
  {
   "cell_type": "markdown",
   "metadata": {},
   "source": [
    "# Classifying hand-written digits\n",
    "(Using the classic \"MNIST\" data set)\n",
    "\n",
    "Notebook by Stephen Becker, July 17 2019\n",
    "\n",
    "The first part of this uses a bit of code from https://medium.com/the-andela-way/applying-machine-learning-to-recognize-handwritten-characters-babcd4b8d705, written by Brice Nkengsa (his code at https://github.com/briceicle/capstone/blob/master/model.py and data at https://github.com/briceicle/capstone/tree/master/data )\n",
    "\n",
    "Requires Pillow (PIL) package: run `pip3 install Pillow` or similar\n",
    "Also needs `tkinter` package\n",
    "\n",
    "Note: the self-drawing of `tkinter` will not work on JupyterHub (maybe someone can make a version based on `ipywidgets` which does), so ask to borrow the instructor's computer to run it."
   ]
  },
  {
   "cell_type": "code",
   "execution_count": 1,
   "metadata": {},
   "outputs": [],
   "source": [
    "import numpy as np\n",
    "import pandas as pd\n",
    "import matplotlib.pyplot as plt\n",
    "import matplotlib\n",
    "\n",
    "from sklearn import svm\n",
    "\n",
    "from joblib import dump, load # to save, load trained scikit-learn models"
   ]
  },
  {
   "cell_type": "code",
   "execution_count": 2,
   "metadata": {},
   "outputs": [
    {
     "data": {
      "text/plain": [
       "(100, 785)"
      ]
     },
     "execution_count": 2,
     "metadata": {},
     "output_type": "execute_result"
    }
   ],
   "source": [
    "# Load the training data (about 75 MB, so takes a little while!)\n",
    "# data_url = \"https://github.com/briceicle/capstone/raw/master/data/train.csv\"\n",
    "# data = pd.read_csv(data_url)\n",
    "# data.shape # 42,000 examples, each 784 (=28^2), so 785 columns (1st column is label)\n",
    "\n",
    "# or, to save time, load a subset of train.csv that we prepared:\n",
    "data = pd.read_csv('data/trainMNIST_small.csv')\n",
    "# or\n",
    "#data = pd.read_csv('https://github.com/cu-applied-math/stem-camp-notebooks/raw/master/notebooks/machine_learning/data/trainMNIST_small.csv')\n",
    "data.shape  # 100 examples, 785 columns"
   ]
  },
  {
   "cell_type": "code",
   "execution_count": 3,
   "metadata": {},
   "outputs": [],
   "source": [
    "# Extract feature columns\n",
    "feature_cols = list(data.columns[1:])\n",
    "\n",
    "# Extract target column 'label'\n",
    "target_col = data.columns[0]\n",
    "\n",
    "# Separate the data into feature data and target data (X and y, respectively)\n",
    "X_train = data[feature_cols]\n",
    "y_train = data[target_col]\n"
   ]
  },
  {
   "cell_type": "code",
   "execution_count": 4,
   "metadata": {},
   "outputs": [
    {
     "data": {
      "text/html": [
       "<div>\n",
       "<style scoped>\n",
       "    .dataframe tbody tr th:only-of-type {\n",
       "        vertical-align: middle;\n",
       "    }\n",
       "\n",
       "    .dataframe tbody tr th {\n",
       "        vertical-align: top;\n",
       "    }\n",
       "\n",
       "    .dataframe thead th {\n",
       "        text-align: right;\n",
       "    }\n",
       "</style>\n",
       "<table border=\"1\" class=\"dataframe\">\n",
       "  <thead>\n",
       "    <tr style=\"text-align: right;\">\n",
       "      <th></th>\n",
       "      <th>pixel0</th>\n",
       "      <th>pixel1</th>\n",
       "      <th>pixel2</th>\n",
       "      <th>pixel3</th>\n",
       "      <th>pixel4</th>\n",
       "      <th>pixel5</th>\n",
       "      <th>pixel6</th>\n",
       "      <th>pixel7</th>\n",
       "      <th>pixel8</th>\n",
       "      <th>pixel9</th>\n",
       "      <th>...</th>\n",
       "      <th>pixel774</th>\n",
       "      <th>pixel775</th>\n",
       "      <th>pixel776</th>\n",
       "      <th>pixel777</th>\n",
       "      <th>pixel778</th>\n",
       "      <th>pixel779</th>\n",
       "      <th>pixel780</th>\n",
       "      <th>pixel781</th>\n",
       "      <th>pixel782</th>\n",
       "      <th>pixel783</th>\n",
       "    </tr>\n",
       "  </thead>\n",
       "  <tbody>\n",
       "    <tr>\n",
       "      <th>0</th>\n",
       "      <td>0</td>\n",
       "      <td>0</td>\n",
       "      <td>0</td>\n",
       "      <td>0</td>\n",
       "      <td>0</td>\n",
       "      <td>0</td>\n",
       "      <td>0</td>\n",
       "      <td>0</td>\n",
       "      <td>0</td>\n",
       "      <td>0</td>\n",
       "      <td>...</td>\n",
       "      <td>0</td>\n",
       "      <td>0</td>\n",
       "      <td>0</td>\n",
       "      <td>0</td>\n",
       "      <td>0</td>\n",
       "      <td>0</td>\n",
       "      <td>0</td>\n",
       "      <td>0</td>\n",
       "      <td>0</td>\n",
       "      <td>0</td>\n",
       "    </tr>\n",
       "    <tr>\n",
       "      <th>1</th>\n",
       "      <td>0</td>\n",
       "      <td>0</td>\n",
       "      <td>0</td>\n",
       "      <td>0</td>\n",
       "      <td>0</td>\n",
       "      <td>0</td>\n",
       "      <td>0</td>\n",
       "      <td>0</td>\n",
       "      <td>0</td>\n",
       "      <td>0</td>\n",
       "      <td>...</td>\n",
       "      <td>0</td>\n",
       "      <td>0</td>\n",
       "      <td>0</td>\n",
       "      <td>0</td>\n",
       "      <td>0</td>\n",
       "      <td>0</td>\n",
       "      <td>0</td>\n",
       "      <td>0</td>\n",
       "      <td>0</td>\n",
       "      <td>0</td>\n",
       "    </tr>\n",
       "    <tr>\n",
       "      <th>2</th>\n",
       "      <td>0</td>\n",
       "      <td>0</td>\n",
       "      <td>0</td>\n",
       "      <td>0</td>\n",
       "      <td>0</td>\n",
       "      <td>0</td>\n",
       "      <td>0</td>\n",
       "      <td>0</td>\n",
       "      <td>0</td>\n",
       "      <td>0</td>\n",
       "      <td>...</td>\n",
       "      <td>0</td>\n",
       "      <td>0</td>\n",
       "      <td>0</td>\n",
       "      <td>0</td>\n",
       "      <td>0</td>\n",
       "      <td>0</td>\n",
       "      <td>0</td>\n",
       "      <td>0</td>\n",
       "      <td>0</td>\n",
       "      <td>0</td>\n",
       "    </tr>\n",
       "    <tr>\n",
       "      <th>3</th>\n",
       "      <td>0</td>\n",
       "      <td>0</td>\n",
       "      <td>0</td>\n",
       "      <td>0</td>\n",
       "      <td>0</td>\n",
       "      <td>0</td>\n",
       "      <td>0</td>\n",
       "      <td>0</td>\n",
       "      <td>0</td>\n",
       "      <td>0</td>\n",
       "      <td>...</td>\n",
       "      <td>0</td>\n",
       "      <td>0</td>\n",
       "      <td>0</td>\n",
       "      <td>0</td>\n",
       "      <td>0</td>\n",
       "      <td>0</td>\n",
       "      <td>0</td>\n",
       "      <td>0</td>\n",
       "      <td>0</td>\n",
       "      <td>0</td>\n",
       "    </tr>\n",
       "    <tr>\n",
       "      <th>4</th>\n",
       "      <td>0</td>\n",
       "      <td>0</td>\n",
       "      <td>0</td>\n",
       "      <td>0</td>\n",
       "      <td>0</td>\n",
       "      <td>0</td>\n",
       "      <td>0</td>\n",
       "      <td>0</td>\n",
       "      <td>0</td>\n",
       "      <td>0</td>\n",
       "      <td>...</td>\n",
       "      <td>0</td>\n",
       "      <td>0</td>\n",
       "      <td>0</td>\n",
       "      <td>0</td>\n",
       "      <td>0</td>\n",
       "      <td>0</td>\n",
       "      <td>0</td>\n",
       "      <td>0</td>\n",
       "      <td>0</td>\n",
       "      <td>0</td>\n",
       "    </tr>\n",
       "  </tbody>\n",
       "</table>\n",
       "<p>5 rows × 784 columns</p>\n",
       "</div>"
      ],
      "text/plain": [
       "   pixel0  pixel1  pixel2  pixel3  pixel4  pixel5  pixel6  pixel7  pixel8  \\\n",
       "0       0       0       0       0       0       0       0       0       0   \n",
       "1       0       0       0       0       0       0       0       0       0   \n",
       "2       0       0       0       0       0       0       0       0       0   \n",
       "3       0       0       0       0       0       0       0       0       0   \n",
       "4       0       0       0       0       0       0       0       0       0   \n",
       "\n",
       "   pixel9    ...     pixel774  pixel775  pixel776  pixel777  pixel778  \\\n",
       "0       0    ...            0         0         0         0         0   \n",
       "1       0    ...            0         0         0         0         0   \n",
       "2       0    ...            0         0         0         0         0   \n",
       "3       0    ...            0         0         0         0         0   \n",
       "4       0    ...            0         0         0         0         0   \n",
       "\n",
       "   pixel779  pixel780  pixel781  pixel782  pixel783  \n",
       "0         0         0         0         0         0  \n",
       "1         0         0         0         0         0  \n",
       "2         0         0         0         0         0  \n",
       "3         0         0         0         0         0  \n",
       "4         0         0         0         0         0  \n",
       "\n",
       "[5 rows x 784 columns]"
      ]
     },
     "execution_count": 4,
     "metadata": {},
     "output_type": "execute_result"
    }
   ],
   "source": [
    "X_train.head()"
   ]
  },
  {
   "cell_type": "code",
   "execution_count": 5,
   "metadata": {},
   "outputs": [],
   "source": [
    "# Load the pre-trained model\n",
    "clf = load('data/trained_MNIST_SVM.joblib')"
   ]
  },
  {
   "cell_type": "code",
   "execution_count": 6,
   "metadata": {},
   "outputs": [],
   "source": [
    "def plotAndEstimate( image ):\n",
    "    # .shape gives (28,28) whereas .size gives 784\n",
    "    imageSquare = image.reshape( 28, 28 )\n",
    "    imageFlat   = image.flatten()\n",
    "    plt.imshow( imageSquare, cmap=matplotlib.cm.gray.reversed() )\n",
    "    digit = clf.predict( [imageFlat] )[0]\n",
    "    print(\"Estimated digit is: \", digit )\n",
    "    return"
   ]
  },
  {
   "cell_type": "code",
   "execution_count": 7,
   "metadata": {},
   "outputs": [
    {
     "name": "stdout",
     "output_type": "stream",
     "text": [
      "Estimated digit is:  9\n"
     ]
    },
    {
     "data": {
      "image/png": "[encoded data removed]",
      "text/plain": [
       "<Figure size 432x288 with 1 Axes>"
      ]
     },
     "metadata": {},
     "output_type": "display_data"
    }
   ],
   "source": [
    "ind = 29  # try different values, starting at 0\n",
    "sampleRow = X_train.iloc[ind].values\n",
    "plotAndEstimate( sampleRow )"
   ]
  },
  {
   "cell_type": "code",
   "execution_count": 8,
   "metadata": {},
   "outputs": [],
   "source": [
    "# Run SVM classification algorithm, takes about 2 minutes\n",
    "# clf = svm.LinearSVC()\n",
    "# clf.fit(X_train, y_train)\n",
    "# clf.score( X_train, y_train )  # how well did we do on the training data? about 88% accuracy\n",
    "\n",
    "# Now, save the pre-trained model, so that not everyone has to train the model\n",
    "#  and download the data (this will reduce the computational demand).\n",
    "# See https://scikit-learn.org/stable/modules/model_persistence.html\n",
    "\n",
    "# dump(clf, 'data/trained_MNIST_SVM.joblib')  # less than 1 MB"
   ]
  },
  {
   "cell_type": "markdown",
   "metadata": {},
   "source": [
    "## Try classifying our own handwritten digits\n",
    "Instructions: use MSPaint, or this online version https://jspaint.app, and first resize the canvas to a 20 x 20 array. Then use the pencil tool to draw your digit.  Save it as a png. Below, we'll use some images that I premade, as a demo.\n",
    "\n",
    "If you're adventurous, take a picture with your phone, then crop it to be a square and resize to 20 x 20, and convert from a JPEG to a PNG file.  See if that works!"
   ]
  },
  {
   "cell_type": "code",
   "execution_count": 12,
   "metadata": {},
   "outputs": [],
   "source": [
    "# from PIL import Image  # Python Image Library - Image Processing.  Use `pip3 install Pillow` or similar\n",
    "# from PIL import ImageOps\n",
    "# see https://pillow.readthedocs.io/en/stable/ for documentation\n",
    "\n",
    "# or, use\n",
    "#import matplotlib.image as mpimg\n",
    "#im = mpimg.imread('image.png')\n",
    "\n",
    "# from PIL import ImageTk, Image, ImageDraw, ImageOps\n",
    "# import PIL\n",
    "#import tkinter\n"
   ]
  },
  {
   "cell_type": "code",
   "execution_count": 8,
   "metadata": {},
   "outputs": [
    {
     "data": {
      "image/png": "[encoded data removed]",
      "text/plain": [
       "<PIL.Image.Image image mode=L size=20x20 at 0x112BC6BA8>"
      ]
     },
     "execution_count": 8,
     "metadata": {},
     "output_type": "execute_result"
    }
   ],
   "source": [
    "from PIL import ImageTk, Image, ImageDraw, ImageOps\n",
    "import PIL\n",
    "# -- Load the file --\n",
    "file = 'data/myDigit2.png' # already 20 x 20, no need to resize\n",
    "# file = 'data/myDigit.png'  # this is square, but 266 x 266, so needs to be resized\n",
    "im = Image.open(file).convert('L')  # open, then convert to black & white\n",
    "im = ImageOps.invert( im ) # flip black/white\n",
    "# -- Resize image if needed --\n",
    "if im.size != (20, 20):\n",
    "    print('Resizing image. Warning: you need to make sure the lines were thick enough!')\n",
    "    im = im.resize( (20,20) ) #, resample =  Image.BICUBIC)\n",
    "# -- Center the image --\n",
    "# The images should be centered. For now, we are not going to do this,\n",
    "#   so try to make sure images are already centered.\n",
    "# -- Pad the image --    \n",
    "# We need to pad the image from 20 x 20 to 28 x 28 by adding white borders\n",
    "# (see http://yann.lecun.com/exdb/mnist/ )\n",
    "new_im = ImageOps.expand(im, 4, fill=0)\n",
    "new_im.size  # now it's 28 x 28\n",
    "im   # shows the image"
   ]
  },
  {
   "cell_type": "code",
   "execution_count": 9,
   "metadata": {},
   "outputs": [
    {
     "name": "stdout",
     "output_type": "stream",
     "text": [
      "Estimated digit is:  3\n"
     ]
    },
    {
     "data": {
      "image/png": "[encoded data removed]",
      "text/plain": [
       "<Figure size 432x288 with 1 Axes>"
      ]
     },
     "metadata": {},
     "output_type": "display_data"
    }
   ],
   "source": [
    "# And run our classifier on it. Does it work??\n",
    "plotAndEstimate( np.array( new_im ) )"
   ]
  },
  {
   "cell_type": "markdown",
   "metadata": {},
   "source": [
    "from Yann LeCun's website: \"The original black and white (bilevel) images from NIST were size normalized to fit in a 20x20 pixel box while preserving their aspect ratio. The resulting images contain grey levels as a result of the anti-aliasing technique used by the normalization algorithm. the images were centered in a 28x28 image by computing the center of mass of the pixels, and translating the image so as to position this point at the center of the 28x28 field.\""
   ]
  },
  {
   "cell_type": "markdown",
   "metadata": {},
   "source": [
    "## Now, really draw your own digit\n",
    "A small window will pop-up. Slowly draw in the window, then click \"Save\", and continue to the next cell."
   ]
  },
  {
   "cell_type": "code",
   "execution_count": 16,
   "metadata": {},
   "outputs": [],
   "source": [
    "# Execute this cell to make a pop-up window\n",
    "# Code from: https://stackoverflow.com/a/55577055\n",
    "from tkinter import *\n",
    "\n",
    "width = 50  # canvas width\n",
    "height = 50 # canvas height\n",
    "center = height//2\n",
    "white = (255, 255, 255) # canvas back\n",
    "\n",
    "def save():\n",
    "    # save image to hard drive\n",
    "    filename = \"myDigit3.png\"\n",
    "    output_image.save(filename)\n",
    "\n",
    "def paint(event):\n",
    "    x1, y1 = (event.x - 1), (event.y - 1)\n",
    "    x2, y2 = (event.x + 1), (event.y + 1)\n",
    "    canvas.create_oval(x1, y1, x2, y2, fill=\"black\",width=3)\n",
    "    draw.line([x1, y1, x2, y2],fill=\"black\",width=3)\n",
    "\n",
    "master = Tk()\n",
    "\n",
    "# create a tkinter canvas to draw on\n",
    "canvas = Canvas(master, width=width, height=height, bg='gray')\n",
    "canvas.pack()\n",
    "\n",
    "# create an empty PIL image and draw object to draw on\n",
    "output_image = PIL.Image.new(\"RGB\", (width, height), white)\n",
    "draw = ImageDraw.Draw(output_image)\n",
    "canvas.pack(expand=YES, fill=BOTH)\n",
    "canvas.bind(\"<B1-Motion>\", paint)\n",
    "\n",
    "# add a button to save the image\n",
    "button=Button(text=\"save\",command=save)\n",
    "button.pack()\n",
    "\n",
    "master.mainloop()"
   ]
  },
  {
   "cell_type": "code",
   "execution_count": 17,
   "metadata": {},
   "outputs": [
    {
     "name": "stdout",
     "output_type": "stream",
     "text": [
      "Resizing image. Warning: you need to make sure the lines were thick enough!\n",
      "Estimated digit is:  2\n"
     ]
    },
    {
     "data": {
      "image/png": "[encoded data removed]",
      "text/plain": [
       "<Figure size 432x288 with 1 Axes>"
      ]
     },
     "metadata": {},
     "output_type": "display_data"
    }
   ],
   "source": [
    "from PIL import ImageTk, Image, ImageDraw, ImageOps\n",
    "\n",
    "file = 'myDigit3.png'\n",
    "im = Image.open(file).convert('L')  # open, then convert to black & white\n",
    "im = ImageOps.invert( im ) # flip black/white\n",
    "# -- Resize image if needed --\n",
    "if im.size != (20, 20):\n",
    "    print('Resizing image. Warning: you need to make sure the lines were thick enough!')\n",
    "    im = im.resize( (20,20) )\n",
    "new_im = ImageOps.expand(im, 4, fill=0)\n",
    "new_im.size \n",
    "plotAndEstimate( np.array( new_im ) )"
   ]
  }
 ],
 "metadata": {
  "kernelspec": {
   "display_name": "Python 3",
   "language": "python",
   "name": "python3"
  },
  "language_info": {
   "codemirror_mode": {
    "name": "ipython",
    "version": 3
   },
   "file_extension": ".py",
   "mimetype": "text/x-python",
   "name": "python",
   "nbconvert_exporter": "python",
   "pygments_lexer": "ipython3",
   "version": "3.7.2"
  }
 },
 "nbformat": 4,
 "nbformat_minor": 2
}
