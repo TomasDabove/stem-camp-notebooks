{
 "cells": [
  {
   "cell_type": "markdown",
   "metadata": {},
   "source": [
    "# Stephen's implementation of the decision tree 20Q game"
   ]
  },
  {
   "cell_type": "markdown",
   "metadata": {},
   "source": [
    "## Read in the data, as in the setup script"
   ]
  },
  {
   "cell_type": "code",
   "execution_count": 2,
   "metadata": {},
   "outputs": [
    {
     "name": "stdout",
     "output_type": "stream",
     "text": [
      "Sport # 0 is Diving\n",
      "Sport # 1 is Swimming\n",
      "Sport # 2 is Synchronized Swimming\n",
      "Sport # 3 is Water Polo\n",
      "Sport # 4 is Kayak\n",
      "Sport # 5 is Basketball\n",
      "Sport # 6 is Bicycling\n",
      "Sport # 7 is Speed skating\n",
      "Sport # 8 is Figure skating\n",
      "Sport # 9 is Gymnastics\n",
      "Sport # 10 is Volleyball\n",
      "Sport # 11 is Wrestling\n",
      "Sport # 12 is Track/running\n",
      "Sport # 13 is Baseball\n",
      "Sport # 14 is Boxing\n",
      "Sport # 15 is Fencing\n",
      "Sport # 16 is Field Hockey\n",
      "Sport # 17 is Football\n",
      "Sport # 18 is Golf\n",
      "Sport # 19 is Sailing\n",
      "Sport # 20 is Softball\n",
      "Sport # 21 is Ping pong\n",
      "Sport # 22 is Tennis\n",
      "Sport # 23 is Ice hockey\n",
      "Sport # 24 is Skiing\n"
     ]
    }
   ],
   "source": [
    "import csv\n",
    "sports = []  # This is a python \"list\" data structure (it is \"mutable\")\n",
    "# The file has a list of sports, one per line.\n",
    "# There are spaces in some names, but no commas or weird punctuation\n",
    "with open('../data/SportsDataset_ListOfSports.csv','r') as csvfile:\n",
    "    myreader = csv.reader(csvfile)\n",
    "    for index, row in enumerate( myreader ):\n",
    "        sports.append(' '.join(row) ) # the join() call merges all fields\n",
    "# Make a look-up table: if you input the name of the sport, it tells you the index\n",
    "# Also, print out a list of all the sports, to make sure it looks OK\n",
    "Sport2Index = {}\n",
    "for ind, sprt in enumerate( sports ):\n",
    "    Sport2Index[sprt] = ind\n",
    "    print('Sport #', ind,'is',sprt)\n",
    "# And example usage of the index lookup:\n",
    "#print('The sport \"', sports[7],'\" has 0-based index', Sport2Index[sports[7]])\n",
    "\n",
    "# -- And read in the list of questions --\n",
    "# this csv file has only a single row\n",
    "questions = []\n",
    "with open('../data/SportsDataset_ListOfAttributes.csv','r') as csvfile:\n",
    "    myreader = csv.reader( csvfile )\n",
    "    for row in myreader:\n",
    "        questions = row\n",
    "Question2Index = {}\n",
    "for ind, quest in enumerate( questions ):\n",
    "    Question2Index[quest] = ind\n",
    "    #print('Question #', ind,': ',quest)\n",
    "# And example usage of the index lookup:\n",
    "#print('The question \"', questions[10],'\" has 0-based index', Question2Index[questions[10]])\n",
    "\n",
    "# -- And read in the training data --\n",
    "YesNoDict = { \"Yes\": 1, \"No\": -1, \"Unsure\": 0, \"\": 0 }\n",
    "# Load from the csv file.\n",
    "# Note: the file only has \"1\"s, because blanks mean \"No\"\n",
    "\n",
    "X = []\n",
    "with open('../data/SportsDataset_DataAttributes.csv','r') as csvfile:\n",
    "    myreader = csv.reader(csvfile)\n",
    "    for row in myreader:\n",
    "        data = [];\n",
    "        for col in row:\n",
    "            data.append( col or \"-1\")\n",
    "        X.append( list(map(int,data)) ) # integers, not strings\n",
    "\n",
    "# This data file is listed in the same order as the sports\n",
    "# The variable \"y\" contains the index of the sport\n",
    "Y = range(len(sports)) # this doesn't work\n",
    "Y = list( map(int,Y) ) # Instead, we need to ask python to really enumerate it!"
   ]
  },
  {
   "cell_type": "markdown",
   "metadata": {},
   "source": [
    "# Answers to student notebook"
   ]
  },
  {
   "cell_type": "code",
   "execution_count": 5,
   "metadata": {},
   "outputs": [
    {
     "data": {
      "text/plain": [
       "1.0"
      ]
     },
     "execution_count": 5,
     "metadata": {},
     "output_type": "execute_result"
    }
   ],
   "source": [
    "# Solution to Task #4\n",
    "from sklearn import tree\n",
    "#clf = tree.DecisionTreeClassifier(max_depth=13,min_samples_leaf=1)\n",
    "clf = tree.DecisionTreeClassifier()\n",
    "clf.fit(X,Y)\n",
    "clf.score(X,Y)"
   ]
  },
  {
   "cell_type": "code",
   "execution_count": 12,
   "metadata": {},
   "outputs": [
    {
     "name": "stdout",
     "output_type": "stream",
     "text": [
      "5\n"
     ]
    },
    {
     "data": {
      "text/plain": [
       "[3, 3, 3, 3, 3, 3, 3]"
      ]
     },
     "execution_count": 12,
     "metadata": {},
     "output_type": "execute_result"
    }
   ],
   "source": [
    "# Solution to task #5\n",
    "ind = Sport2Index['Basketball']\n",
    "print(ind)\n",
    "bball = X[ind]\n",
    "bball\n",
    "ans = clf.predict( [bball] )[0]\n",
    "ans\n",
    "[3]*7"
   ]
  },
  {
   "cell_type": "code",
   "execution_count": 15,
   "metadata": {},
   "outputs": [
    {
     "name": "stdout",
     "output_type": "stream",
     "text": [
      "Water Sport?\n",
      "  [1 for Yes, -1 for No]  1\n",
      "Necessarily a team sport?\n",
      "  [1 for Yes, -1 for No]  1\n",
      "Ice involved?\n",
      "  [1 for Yes, -1 for No]  1\n",
      "Snow involved? \n",
      "  [1 for Yes, -1 for No]  -1\n",
      "One-on-one matches?\n",
      "  [1 for Yes, -1 for No]  1\n",
      "Subjective scoring?\n",
      "  [1 for Yes, -1 for No]  1\n",
      "Race of some sort?\n",
      "  [1 for Yes, -1 for No]  1\n",
      "Is it always played outdoors?\n",
      "  [1 for Yes, -1 for No]  1\n",
      "Is it a combat sport?\n",
      "  [1 for Yes, -1 for No]  1\n",
      "Is there a goal or a hoop?\n",
      "  [1 for Yes, -1 for No]  1\n",
      "Does each person have large equipment (bike, boat; NOT skates, skis, stick...)\n",
      "  [1 for Yes, -1 for No]  1\n",
      "Does each participant have small gear like a racquet, stick, skates, skis, mitt, sword, etc.?\n",
      "  [1 for Yes, -1 for No]  1\n",
      "Is there a ball bigger than a baseball used?\n",
      "  [1 for Yes, -1 for No]  1\n",
      "Is there a weapon involved?\n",
      "  [1 for Yes, -1 for No]  1\n"
     ]
    }
   ],
   "source": [
    "# Solution to task #6\n",
    "x = [0]*len(questions)\n",
    "for i,Q in enumerate( questions ):\n",
    "    print(Q)\n",
    "    x[i] = int( input(\"  [1 for Yes, -1 for No]  \") )\n",
    "    #x[i] = parseInput(input(\"  [Yes/no/unsure]  \"))\n"
   ]
  },
  {
   "cell_type": "markdown",
   "metadata": {},
   "source": [
    "# Actually classify (here, we depart from public script)"
   ]
  },
  {
   "cell_type": "code",
   "execution_count": 17,
   "metadata": {},
   "outputs": [],
   "source": [
    "from sklearn import tree\n",
    "from sklearn.ensemble import RandomForestClassifier\n",
    "#clf = tree.DecisionTreeClassifier(max_depth=8,min_samples_leaf=2)\n",
    "clf = tree.DecisionTreeClassifier(max_depth=13,min_samples_leaf=1)\n",
    "clf.fit(X,Y)\n",
    "# Try changing the training data, so that we don't get 100% accuracy:\n",
    "#X2 = X.copy()\n",
    "#X2[15][-1] = -1\n",
    "#clf.fit(X2,y)"
   ]
  },
  {
   "cell_type": "code",
   "execution_count": 31,
   "metadata": {},
   "outputs": [
    {
     "data": {
      "text/html": [
       "<img src=\"sportsTree.png\"/>"
      ],
      "text/plain": [
       "<IPython.core.display.Image object>"
      ]
     },
     "execution_count": 31,
     "metadata": {},
     "output_type": "execute_result"
    }
   ],
   "source": [
    "# -- Visualize the decision tree --\n",
    "\n",
    "import graphviz\n",
    "\n",
    "dot_data = tree.export_graphviz( clf, out_file='sportsTree.dot', feature_names = questions,impurity=False,\n",
    "                               class_names = sports,filled=True, rounded=True,label=None,\n",
    "                               proportion=True)\n",
    "# export to out_file = 'sportsTree.dot', then in vim, use `%s/\\\\n\\[.*\\]\\\\n/\\\\n/g` to remove labels\n",
    "#graph = graphviz.Source( dot_data )\n",
    "#graph.render('sportsTree')\n",
    "#graph\n",
    "\n",
    "from IPython.display import Image\n",
    "Image(url='sportsTree.png')"
   ]
  },
  {
   "cell_type": "code",
   "execution_count": 13,
   "metadata": {},
   "outputs": [],
   "source": [
    "# let's see how well we do\n",
    "# You can also use clf.score(X,y) \n",
    "def correctPercentage( predictions, actual ):\n",
    "    correct = 0\n",
    "    for i,guess in enumerate(predictions):\n",
    "        if guess == actual[i]:\n",
    "            correct = correct + 1\n",
    "    return correct/len(predictions)"
   ]
  },
  {
   "cell_type": "code",
   "execution_count": 18,
   "metadata": {},
   "outputs": [
    {
     "name": "stdout",
     "output_type": "stream",
     "text": [
      "0.96\n",
      "0.88\n"
     ]
    },
    {
     "data": {
      "text/plain": [
       "0.96"
      ]
     },
     "execution_count": 18,
     "metadata": {},
     "output_type": "execute_result"
    }
   ],
   "source": [
    "clf2 = RandomForestClassifier(max_depth=10,n_estimators=10)\n",
    "clf2 = clf2.fit(X,Y)\n",
    "print(correctPercentage( clf.predict(X), Y ))\n",
    "print(correctPercentage( clf2.predict(X), Y ))\n",
    "clf.score(X,y)"
   ]
  },
  {
   "cell_type": "code",
   "execution_count": null,
   "metadata": {},
   "outputs": [],
   "source": [
    "# cross validate (hard to do, due to small amount of data)\n",
    "clf3 = tree.DecisionTreeClassifier(random_state=0,max_depth=8)\n",
    "from sklearn.model_selection import cross_val_score\n",
    "cross_val_score(clf3, X, Y)#, cv=2)\n",
    "len(X)"
   ]
  },
  {
   "cell_type": "markdown",
   "metadata": {},
   "source": [
    "## Now, start the real hacking, so that it let's us interact\n",
    "some info here: http://scikit-learn.org/stable/modules/generated/sklearn.tree.DecisionTreeClassifier.html#sklearn.tree.DecisionTreeClassifier\n",
    "and also movie list here: https://docs.google.com/spreadsheets/d/1-849aPzi8Su_c5HwwDFERrogXjvSaZFfp_y9MHeO1IA/edit?usp=sharing"
   ]
  },
  {
   "cell_type": "code",
   "execution_count": 19,
   "metadata": {},
   "outputs": [],
   "source": [
    "tree_ = clf.tree_\n",
    "from sklearn.tree import _tree\n",
    "import numpy as np\n",
    "#dir(_tree.Tree) # inspect what we have to work with\n",
    "#dir(_tree)"
   ]
  },
  {
   "cell_type": "code",
   "execution_count": 20,
   "metadata": {},
   "outputs": [],
   "source": [
    "def parseInput(str):\n",
    "    # first, ignore capitalization\n",
    "    str=str.lower()\n",
    "    if str[0] == 'y':\n",
    "        return 1\n",
    "    elif str[0] == 'n':\n",
    "        return -1\n",
    "    else:\n",
    "        return 0\n",
    "    \n",
    "def askQuestion(node=0):\n",
    "    Q         = tree_.feature[node]\n",
    "    threshold = tree_.threshold[node]\n",
    "    if Q == _tree.TREE_UNDEFINED or Q == _tree.TREE_LEAF:\n",
    "        # at a leaf node, so make the prediction\n",
    "        vals = tree_.value[node][0]  # size of all movies\n",
    "        ind  = np.argmax( vals )\n",
    "        print('GUESS: ', sports[ind] )\n",
    "    else:\n",
    "        # ask a question and recurse\n",
    "        print(questions[Q])\n",
    "        ans = parseInput(input(\"  [Yes/no/unsure]  \"))\n",
    "        if ans <= threshold:\n",
    "            askQuestion(tree_.children_left[node])\n",
    "        else:\n",
    "            askQuestion(tree_.children_right[node])\n",
    "\n",
    "# or maybe ask for all 13 questions\n",
    "def fullSport():\n",
    "    x = [0]*len(questions)\n",
    "    for i,Q in enumerate( questions ):\n",
    "        print(Q)\n",
    "        x[i] = parseInput(input(\"  [Yes/no/unsure]  \"))\n",
    "    return x"
   ]
  },
  {
   "cell_type": "code",
   "execution_count": 25,
   "metadata": {},
   "outputs": [
    {
     "name": "stdout",
     "output_type": "stream",
     "text": [
      "Water Sport?\n",
      "  [Yes/no/unsure]  n\n",
      "Is it always played outdoors?\n",
      "  [Yes/no/unsure]  n\n",
      "Is there a ball bigger than a baseball used?\n",
      "  [Yes/no/unsure]  n\n",
      "Is there a goal or a hoop?\n",
      "  [Yes/no/unsure]  n\n",
      "One-on-one matches?\n",
      "  [Yes/no/unsure]  y\n",
      "Does each participant have small gear like a racquet, stick, skates, skis, mitt, sword, etc.?\n",
      "  [Yes/no/unsure]  y\n",
      "Is it a combat sport?\n",
      "  [Yes/no/unsure]  y\n",
      "GUESS:  Boxing\n"
     ]
    }
   ],
   "source": [
    "# Play game!\n",
    "askQuestion()"
   ]
  },
  {
   "cell_type": "code",
   "execution_count": 57,
   "metadata": {},
   "outputs": [
    {
     "name": "stdout",
     "output_type": "stream",
     "text": [
      "Water Sport?\n",
      "  [Yes/no/unsure]  y\n",
      "Necessarily a team sport?\n",
      "  [Yes/no/unsure]  y\n",
      "Ice involved?\n",
      "  [Yes/no/unsure]  n\n",
      "Snow involved? \n",
      "  [Yes/no/unsure]  n\n",
      "One-on-one matches?\n",
      "  [Yes/no/unsure]  n\n",
      "Subjective scoring?\n",
      "  [Yes/no/unsure]  y\n",
      "Race of some sort?\n",
      "  [Yes/no/unsure]  n\n",
      "Is it always played outdoors?\n",
      "  [Yes/no/unsure]  n\n",
      "Is it a combat sport?\n",
      "  [Yes/no/unsure]  n\n",
      "Is there a goal or a hoop?\n",
      "  [Yes/no/unsure]  n\n",
      "Does each person have large equipment (bike, boat; NOT skates, skis, stick...)\n",
      "  [Yes/no/unsure]  n\n",
      "Does each participant have small gear like a racquet, stick, skates, skis, mitt, sword, etc.?\n",
      "  [Yes/no/unsure]  n\n",
      "Is there a ball bigger than a baseball used?\n",
      "  [Yes/no/unsure]  n\n",
      "Is there a weapon involved?\n",
      "  [Yes/no/unsure]  n\n",
      "PREDICTION (random forests):  Synchronized Swimming\n",
      "PREDICTION (decision tree ):  Synchronized Swimming\n"
     ]
    }
   ],
   "source": [
    "# Or get all 13 unique questions on one movie, and try random forests\n",
    "x = fullSport()\n",
    "print('PREDICTION (random forests): ', sports[ clf2.predict([x])[0] ] )\n",
    "print('PREDICTION (decision tree ): ', sports[ clf.predict([x])[0] ] )"
   ]
  }
 ],
 "metadata": {
  "kernelspec": {
   "display_name": "Python 3",
   "language": "python",
   "name": "python3"
  },
  "language_info": {
   "codemirror_mode": {
    "name": "ipython",
    "version": 3
   },
   "file_extension": ".py",
   "mimetype": "text/x-python",
   "name": "python",
   "nbconvert_exporter": "python",
   "pygments_lexer": "ipython3",
   "version": "3.7.2"
  }
 },
 "nbformat": 4,
 "nbformat_minor": 1
}
